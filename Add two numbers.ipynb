{
 "cells": [
  {
   "cell_type": "markdown",
   "id": "6221574e-f7ab-4d6f-9f45-b44eeafdba57",
   "metadata": {},
   "source": [
    "# Add two numbers"
   ]
  },
  {
   "cell_type": "code",
   "execution_count": 1,
   "id": "73423876-0009-4449-8434-90fcb66570bb",
   "metadata": {},
   "outputs": [],
   "source": [
    "num1 = 10"
   ]
  },
  {
   "cell_type": "code",
   "execution_count": 2,
   "id": "32be35e3-60c0-49d5-9499-f88b3cf9dcd8",
   "metadata": {},
   "outputs": [],
   "source": [
    "num2 = 5"
   ]
  },
  {
   "cell_type": "code",
   "execution_count": 3,
   "id": "97e5e869-88f3-4f0d-91e6-7eda845c02ef",
   "metadata": {},
   "outputs": [],
   "source": [
    "result = num1 + num2"
   ]
  },
  {
   "cell_type": "code",
   "execution_count": 4,
   "id": "46b27614-972e-4e37-bf98-9fc7eb30a88b",
   "metadata": {},
   "outputs": [
    {
     "name": "stdout",
     "output_type": "stream",
     "text": [
      "The sum is: 15\n"
     ]
    }
   ],
   "source": [
    "print(\"The sum is:\",result)"
   ]
  },
  {
   "cell_type": "code",
   "execution_count": null,
   "id": "38b42e21-de05-42d5-88fa-a255c6bc6ed6",
   "metadata": {},
   "outputs": [],
   "source": []
  }
 ],
 "metadata": {
  "kernelspec": {
   "display_name": "Python 3 (ipykernel)",
   "language": "python",
   "name": "python3"
  },
  "language_info": {
   "codemirror_mode": {
    "name": "ipython",
    "version": 3
   },
   "file_extension": ".py",
   "mimetype": "text/x-python",
   "name": "python",
   "nbconvert_exporter": "python",
   "pygments_lexer": "ipython3",
   "version": "3.10.12"
  }
 },
 "nbformat": 4,
 "nbformat_minor": 5
}
